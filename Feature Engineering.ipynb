{
 "cells": [
  {
   "cell_type": "code",
   "execution_count": 473,
   "metadata": {},
   "outputs": [
    {
     "name": "stdout",
     "output_type": "stream",
     "text": [
      "Using matplotlib backend: MacOSX\n"
     ]
    }
   ],
   "source": [
    "# For Data Manipulation\n",
    "import pandas as pd\n",
    "from pandas import Series,DataFrame\n",
    "import numpy as np\n",
    "\n",
    "# For Visualization\n",
    "import matplotlib.pyplot as plt\n",
    "import seaborn as sns\n",
    "plt.style.use('seaborn')\n",
    "%matplotlib"
   ]
  },
  {
   "cell_type": "code",
   "execution_count": 504,
   "metadata": {
    "collapsed": true
   },
   "outputs": [],
   "source": [
    "# Load the data\n",
    "data=pd.read_csv('data_cleaned_step_2.csv')"
   ]
  },
  {
   "cell_type": "markdown",
   "metadata": {},
   "source": [
    "### Inspect the data"
   ]
  },
  {
   "cell_type": "code",
   "execution_count": 505,
   "metadata": {},
   "outputs": [
    {
     "data": {
      "text/html": [
       "<div>\n",
       "<style scoped>\n",
       "    .dataframe tbody tr th:only-of-type {\n",
       "        vertical-align: middle;\n",
       "    }\n",
       "\n",
       "    .dataframe tbody tr th {\n",
       "        vertical-align: top;\n",
       "    }\n",
       "\n",
       "    .dataframe thead th {\n",
       "        text-align: right;\n",
       "    }\n",
       "</style>\n",
       "<table border=\"1\" class=\"dataframe\">\n",
       "  <thead>\n",
       "    <tr style=\"text-align: right;\">\n",
       "      <th></th>\n",
       "      <th>opportunity_id</th>\n",
       "      <th>application_term</th>\n",
       "      <th>application_received_date</th>\n",
       "      <th>file_status_completed_date</th>\n",
       "      <th>decision_date</th>\n",
       "      <th>deposit_received_date</th>\n",
       "      <th>response_date</th>\n",
       "      <th>date_acceptance_letter_sent</th>\n",
       "      <th>department</th>\n",
       "      <th>undergraduate_gpa</th>\n",
       "      <th>...</th>\n",
       "      <th>follow_up_required</th>\n",
       "      <th>90041_mi</th>\n",
       "      <th>91601_mi</th>\n",
       "      <th>92122_mi</th>\n",
       "      <th>94607_mi</th>\n",
       "      <th>last_60_90_gpa</th>\n",
       "      <th>graduate_gpa</th>\n",
       "      <th>temperature</th>\n",
       "      <th>second_review_lor</th>\n",
       "      <th>sip_score</th>\n",
       "    </tr>\n",
       "  </thead>\n",
       "  <tbody>\n",
       "    <tr>\n",
       "      <th>0</th>\n",
       "      <td>006a000000zHwSbAAK</td>\n",
       "      <td>Fall 2013</td>\n",
       "      <td>2013-03-15T00:00:00Z</td>\n",
       "      <td>2013-05-13T00:00:00Z</td>\n",
       "      <td>2013-06-06T00:00:00Z</td>\n",
       "      <td>NaN</td>\n",
       "      <td>NaN</td>\n",
       "      <td>2013-06-07T00:00:00Z</td>\n",
       "      <td>blank</td>\n",
       "      <td>2.00</td>\n",
       "      <td>...</td>\n",
       "      <td>False</td>\n",
       "      <td>14.112139</td>\n",
       "      <td>17.312897</td>\n",
       "      <td>96.109994</td>\n",
       "      <td>351.040530</td>\n",
       "      <td>2.20</td>\n",
       "      <td>3.67</td>\n",
       "      <td>blank</td>\n",
       "      <td>3</td>\n",
       "      <td>0</td>\n",
       "    </tr>\n",
       "    <tr>\n",
       "      <th>1</th>\n",
       "      <td>006a000000zHwQgAAK</td>\n",
       "      <td>Fall 2013</td>\n",
       "      <td>2013-03-11T00:00:00Z</td>\n",
       "      <td>2013-07-09T00:00:00Z</td>\n",
       "      <td>2013-07-09T00:00:00Z</td>\n",
       "      <td>NaN</td>\n",
       "      <td>NaN</td>\n",
       "      <td>2013-05-17T00:00:00Z</td>\n",
       "      <td>blank</td>\n",
       "      <td>2.01</td>\n",
       "      <td>...</td>\n",
       "      <td>False</td>\n",
       "      <td>30.434642</td>\n",
       "      <td>36.394601</td>\n",
       "      <td>76.712759</td>\n",
       "      <td>370.439711</td>\n",
       "      <td>2.88</td>\n",
       "      <td>3.67</td>\n",
       "      <td>blank</td>\n",
       "      <td>3</td>\n",
       "      <td>0</td>\n",
       "    </tr>\n",
       "    <tr>\n",
       "      <th>2</th>\n",
       "      <td>006a000000yvNgDAAU</td>\n",
       "      <td>Fall 2013</td>\n",
       "      <td>2013-02-21T00:00:00Z</td>\n",
       "      <td>2013-03-15T00:00:00Z</td>\n",
       "      <td>2013-05-01T00:00:00Z</td>\n",
       "      <td>NaN</td>\n",
       "      <td>NaN</td>\n",
       "      <td>2013-05-03T00:00:00Z</td>\n",
       "      <td>blank</td>\n",
       "      <td>2.12</td>\n",
       "      <td>...</td>\n",
       "      <td>False</td>\n",
       "      <td>13.940513</td>\n",
       "      <td>14.910570</td>\n",
       "      <td>99.376021</td>\n",
       "      <td>347.804562</td>\n",
       "      <td>2.94</td>\n",
       "      <td>3.09</td>\n",
       "      <td>blank</td>\n",
       "      <td>2</td>\n",
       "      <td>0</td>\n",
       "    </tr>\n",
       "    <tr>\n",
       "      <th>3</th>\n",
       "      <td>006a000001BhqChAAJ</td>\n",
       "      <td>Fall 2014</td>\n",
       "      <td>2014-12-09T00:00:00Z</td>\n",
       "      <td>2014-12-09T00:00:00Z</td>\n",
       "      <td>2015-03-20T00:00:00Z</td>\n",
       "      <td>NaN</td>\n",
       "      <td>NaN</td>\n",
       "      <td>NaN</td>\n",
       "      <td>blank</td>\n",
       "      <td>1.70</td>\n",
       "      <td>...</td>\n",
       "      <td>False</td>\n",
       "      <td>2319.139657</td>\n",
       "      <td>2328.959417</td>\n",
       "      <td>2257.727213</td>\n",
       "      <td>2567.392367</td>\n",
       "      <td>2.88</td>\n",
       "      <td>3.67</td>\n",
       "      <td>blank</td>\n",
       "      <td>3</td>\n",
       "      <td>0</td>\n",
       "    </tr>\n",
       "    <tr>\n",
       "      <th>4</th>\n",
       "      <td>006a0000017FtkIAAS</td>\n",
       "      <td>Summer 2014</td>\n",
       "      <td>2014-02-13T00:00:00Z</td>\n",
       "      <td>2014-02-13T00:00:00Z</td>\n",
       "      <td>2014-04-24T00:00:00Z</td>\n",
       "      <td>NaN</td>\n",
       "      <td>NaN</td>\n",
       "      <td>2014-05-09T00:00:00Z</td>\n",
       "      <td>blank</td>\n",
       "      <td>1.95</td>\n",
       "      <td>...</td>\n",
       "      <td>False</td>\n",
       "      <td>NaN</td>\n",
       "      <td>NaN</td>\n",
       "      <td>NaN</td>\n",
       "      <td>NaN</td>\n",
       "      <td>2.25</td>\n",
       "      <td>3.67</td>\n",
       "      <td>blank</td>\n",
       "      <td>1</td>\n",
       "      <td>0</td>\n",
       "    </tr>\n",
       "  </tbody>\n",
       "</table>\n",
       "<p>5 rows × 53 columns</p>\n",
       "</div>"
      ],
      "text/plain": [
       "       opportunity_id application_term application_received_date  \\\n",
       "0  006a000000zHwSbAAK        Fall 2013      2013-03-15T00:00:00Z   \n",
       "1  006a000000zHwQgAAK        Fall 2013      2013-03-11T00:00:00Z   \n",
       "2  006a000000yvNgDAAU        Fall 2013      2013-02-21T00:00:00Z   \n",
       "3  006a000001BhqChAAJ        Fall 2014      2014-12-09T00:00:00Z   \n",
       "4  006a0000017FtkIAAS      Summer 2014      2014-02-13T00:00:00Z   \n",
       "\n",
       "  file_status_completed_date         decision_date deposit_received_date  \\\n",
       "0       2013-05-13T00:00:00Z  2013-06-06T00:00:00Z                   NaN   \n",
       "1       2013-07-09T00:00:00Z  2013-07-09T00:00:00Z                   NaN   \n",
       "2       2013-03-15T00:00:00Z  2013-05-01T00:00:00Z                   NaN   \n",
       "3       2014-12-09T00:00:00Z  2015-03-20T00:00:00Z                   NaN   \n",
       "4       2014-02-13T00:00:00Z  2014-04-24T00:00:00Z                   NaN   \n",
       "\n",
       "  response_date date_acceptance_letter_sent department  undergraduate_gpa  \\\n",
       "0           NaN        2013-06-07T00:00:00Z      blank               2.00   \n",
       "1           NaN        2013-05-17T00:00:00Z      blank               2.01   \n",
       "2           NaN        2013-05-03T00:00:00Z      blank               2.12   \n",
       "3           NaN                         NaN      blank               1.70   \n",
       "4           NaN        2014-05-09T00:00:00Z      blank               1.95   \n",
       "\n",
       "     ...     follow_up_required     90041_mi     91601_mi     92122_mi  \\\n",
       "0    ...                  False    14.112139    17.312897    96.109994   \n",
       "1    ...                  False    30.434642    36.394601    76.712759   \n",
       "2    ...                  False    13.940513    14.910570    99.376021   \n",
       "3    ...                  False  2319.139657  2328.959417  2257.727213   \n",
       "4    ...                  False          NaN          NaN          NaN   \n",
       "\n",
       "      94607_mi  last_60_90_gpa  graduate_gpa  temperature second_review_lor  \\\n",
       "0   351.040530            2.20          3.67        blank                 3   \n",
       "1   370.439711            2.88          3.67        blank                 3   \n",
       "2   347.804562            2.94          3.09        blank                 2   \n",
       "3  2567.392367            2.88          3.67        blank                 3   \n",
       "4          NaN            2.25          3.67        blank                 1   \n",
       "\n",
       "  sip_score  \n",
       "0         0  \n",
       "1         0  \n",
       "2         0  \n",
       "3         0  \n",
       "4         0  \n",
       "\n",
       "[5 rows x 53 columns]"
      ]
     },
     "execution_count": 505,
     "metadata": {},
     "output_type": "execute_result"
    }
   ],
   "source": [
    "data.head()"
   ]
  },
  {
   "cell_type": "markdown",
   "metadata": {},
   "source": [
    "### Deal with date variables"
   ]
  },
  {
   "cell_type": "code",
   "execution_count": 506,
   "metadata": {
    "collapsed": true
   },
   "outputs": [],
   "source": [
    "# Convert Strings to Date\n",
    "data.application_received_date=pd.to_datetime(data.application_received_date)\n",
    "data.file_status_completed_date=pd.to_datetime(data.file_status_completed_date)\n",
    "data.decision_date=pd.to_datetime(data.decision_date)\n",
    "data.deposit_received_date=pd.to_datetime(data.deposit_received_date)\n",
    "data.response_date=pd.to_datetime(data.response_date)\n",
    "data.date_acceptance_letter_sent=pd.to_datetime(data.date_acceptance_letter_sent)"
   ]
  },
  {
   "cell_type": "code",
   "execution_count": 507,
   "metadata": {
    "collapsed": true
   },
   "outputs": [],
   "source": [
    "# Time Interval Variables\n",
    "\n",
    "## Decide not to use the \"deposit received time\" since for those who do not accpet the offer, there will be no deposit\n",
    "## and there would be too many missing values for the calculations on it.\n",
    "## Turn to use the boolean variable \"deposit_received\"\n",
    "\n",
    "data['time_to_finish_application']=data.file_status_completed_date-data.application_received_date\n",
    "data['time_to_finish_application']=data['time_to_finish_application'].astype('timedelta64[D]')\n",
    "\n",
    "data['decision_wait_time']=data.decision_date-data.file_status_completed_date\n",
    "data['decision_wait_time']=data['decision_wait_time'].astype('timedelta64[D]')\n",
    "\n",
    "data['response_time']=data.response_date-data.date_acceptance_letter_sent\n",
    "data['response_time']=data['response_time'].astype('timedelta64[D]')"
   ]
  },
  {
   "cell_type": "markdown",
   "metadata": {},
   "source": [
    "### Deal With Categorical Variables"
   ]
  },
  {
   "cell_type": "code",
   "execution_count": 508,
   "metadata": {
    "collapsed": true
   },
   "outputs": [],
   "source": [
    "factors_to_code=['billing_country','ethnicity','gender','first_generation','campus___cleaned',\n",
    "'residency','deposit_received','temperature']"
   ]
  },
  {
   "cell_type": "code",
   "execution_count": 509,
   "metadata": {
    "collapsed": true
   },
   "outputs": [],
   "source": [
    "# Dummy Code the Categorical Variables\n",
    "data = pd.get_dummies(data, columns=factors_to_code)"
   ]
  },
  {
   "cell_type": "code",
   "execution_count": 510,
   "metadata": {
    "collapsed": true
   },
   "outputs": [],
   "source": [
    "# Remove some Correlated Columns (eg: There will be needed 3 dummy factors for a 4 levels categorical variable )\n",
    "factors_to_remove=['billing_country_China','ethnicity_African American','gender_Male','first_generation_No',\n",
    "                  'campus___cleaned_Skirball Academic Center','residency_None','deposit_received_False','temperature_blank']\n",
    "data.drop(factors_to_remove,axis=1,inplace=True)"
   ]
  },
  {
   "cell_type": "code",
   "execution_count": 511,
   "metadata": {
    "collapsed": true
   },
   "outputs": [],
   "source": [
    "# Manually Deal with program_length variable\n",
    "dictionary={'6 Semester':6,\n",
    "            '3 years':6,\n",
    "            '4 years':8,\n",
    "            '5 Semester':5,\n",
    "            '8 Semester':8,\n",
    "            '2 years':4,\n",
    "            '3 Semester':3,\n",
    "            '4 Semester':4,\n",
    "           'blank':np.nan}"
   ]
  },
  {
   "cell_type": "code",
   "execution_count": 512,
   "metadata": {
    "collapsed": true
   },
   "outputs": [],
   "source": [
    "data['program_length']=data.program_length.map(dictionary)"
   ]
  },
  {
   "cell_type": "code",
   "execution_count": 513,
   "metadata": {},
   "outputs": [
    {
     "name": "stderr",
     "output_type": "stream",
     "text": [
      "/Users/zijianwang/anaconda3/lib/python3.6/site-packages/pandas/core/generic.py:5434: SettingWithCopyWarning: \n",
      "A value is trying to be set on a copy of a slice from a DataFrame\n",
      "\n",
      "See the caveats in the documentation: http://pandas.pydata.org/pandas-docs/stable/indexing.html#indexing-view-versus-copy\n",
      "  self._update_inplace(new_data)\n"
     ]
    }
   ],
   "source": [
    "## fill the median of program length missing value according to the post-code(program code)\n",
    "for var in data.post_code.unique():\n",
    "    df=data[data.post_code==var]\n",
    "    df.program_length.fillna(df.program_length.median(),inplace=True)\n",
    "    data[data.post_code==var]=df\n",
    "# there still missing values since post_code 1632 doese not have any value\n",
    "# for this issue of Nan, fill the median of of all record\n",
    "data.program_length.fillna(data.program_length.median(),inplace=True)"
   ]
  },
  {
   "cell_type": "markdown",
   "metadata": {},
   "source": [
    "### Deal with Numerical Variables"
   ]
  },
  {
   "cell_type": "code",
   "execution_count": 514,
   "metadata": {
    "collapsed": true
   },
   "outputs": [],
   "source": [
    "# ther is an outlie in this 'second_review_exp' field, remove this record\n",
    "data[data.second_review_exp==13] # index is 1626\n",
    "data.drop(1626,inplace=True)"
   ]
  },
  {
   "cell_type": "code",
   "execution_count": 515,
   "metadata": {
    "collapsed": true
   },
   "outputs": [],
   "source": [
    "# Rescale the scores\n",
    "for i in data.index:\n",
    "    if data.loc[i,'application_term']=='Spring 2015' or data.loc[i,'application_term']=='Fall 2015':\n",
    "        data.loc[i,'first_review_sop']=data.loc[i,'first_review_sop']/7*5\n",
    "        data.loc[i,'first_review_lor']=data.loc[i,'first_review_lor']/3*5\n",
    "        data.loc[i,'second_review_sop']=data.loc[i,'second_review_sop']/7*5\n",
    "        data.loc[i,'second_review_lor']=data.loc[i,'second_review_lor']/3*5"
   ]
  },
  {
   "cell_type": "markdown",
   "metadata": {},
   "source": [
    "### Get the columns that will be used for Modeling"
   ]
  },
  {
   "cell_type": "code",
   "execution_count": 516,
   "metadata": {
    "collapsed": true
   },
   "outputs": [],
   "source": [
    "# For the output variable, we need to dummy code it, if comfirmed then 1, \n",
    "for i in data.index:  \n",
    "    if data.loc[i,'response']=='Confirmed':\n",
    "        data.loc[i,'response']=1\n",
    "    else:\n",
    "        data.loc[i,'response']=0"
   ]
  },
  {
   "cell_type": "code",
   "execution_count": 517,
   "metadata": {},
   "outputs": [
    {
     "name": "stderr",
     "output_type": "stream",
     "text": [
      "/Users/zijianwang/anaconda3/lib/python3.6/site-packages/pandas/core/generic.py:5434: SettingWithCopyWarning: \n",
      "A value is trying to be set on a copy of a slice from a DataFrame\n",
      "\n",
      "See the caveats in the documentation: http://pandas.pydata.org/pandas-docs/stable/indexing.html#indexing-view-versus-copy\n",
      "  self._update_inplace(new_data)\n"
     ]
    }
   ],
   "source": [
    "### Final Data Cleaning and Missing Values Filling\n",
    "\n",
    "# To fill the missing values in time interval variables\n",
    "for var in data.post_code.unique():\n",
    "    df=data[data.post_code==var]\n",
    "    df.time_to_finish_application.fillna(df.time_to_finish_application.median(),inplace=True)\n",
    "    df.response_time.fillna(df.response_time.median(),inplace=True)\n",
    "    df.decision_wait_time.fillna(df.decision_wait_time.median(),inplace=True)\n",
    "    data[data.post_code==var]=df"
   ]
  },
  {
   "cell_type": "code",
   "execution_count": 518,
   "metadata": {
    "collapsed": true
   },
   "outputs": [],
   "source": [
    "## Still Suffer the post_code 1632 issue\n",
    "## Same method to deal with that\n",
    "data.time_to_finish_application.fillna(data.time_to_finish_application.median(),inplace=True)\n",
    "data.response_time.fillna(data.response_time.median(),inplace=True)\n",
    "data.decision_wait_time.fillna(data.decision_wait_time.median(),inplace=True)"
   ]
  },
  {
   "cell_type": "code",
   "execution_count": 519,
   "metadata": {},
   "outputs": [
    {
     "data": {
      "text/html": [
       "<div>\n",
       "<style scoped>\n",
       "    .dataframe tbody tr th:only-of-type {\n",
       "        vertical-align: middle;\n",
       "    }\n",
       "\n",
       "    .dataframe tbody tr th {\n",
       "        vertical-align: top;\n",
       "    }\n",
       "\n",
       "    .dataframe thead th {\n",
       "        text-align: right;\n",
       "    }\n",
       "</style>\n",
       "<table border=\"1\" class=\"dataframe\">\n",
       "  <thead>\n",
       "    <tr style=\"text-align: right;\">\n",
       "      <th></th>\n",
       "      <th>90041_mi</th>\n",
       "      <th>91601_mi</th>\n",
       "      <th>92122_mi</th>\n",
       "      <th>94607_mi</th>\n",
       "    </tr>\n",
       "  </thead>\n",
       "  <tbody>\n",
       "    <tr>\n",
       "      <th>count</th>\n",
       "      <td>16757.000000</td>\n",
       "      <td>16757.000000</td>\n",
       "      <td>16757.000000</td>\n",
       "      <td>16757.000000</td>\n",
       "    </tr>\n",
       "    <tr>\n",
       "      <th>mean</th>\n",
       "      <td>822.588764</td>\n",
       "      <td>826.441366</td>\n",
       "      <td>853.791124</td>\n",
       "      <td>998.731859</td>\n",
       "    </tr>\n",
       "    <tr>\n",
       "      <th>std</th>\n",
       "      <td>964.225819</td>\n",
       "      <td>966.893129</td>\n",
       "      <td>927.003138</td>\n",
       "      <td>936.039176</td>\n",
       "    </tr>\n",
       "    <tr>\n",
       "      <th>min</th>\n",
       "      <td>0.000000</td>\n",
       "      <td>0.000000</td>\n",
       "      <td>0.000000</td>\n",
       "      <td>0.000000</td>\n",
       "    </tr>\n",
       "    <tr>\n",
       "      <th>25%</th>\n",
       "      <td>22.139545</td>\n",
       "      <td>26.101987</td>\n",
       "      <td>99.376021</td>\n",
       "      <td>343.704943</td>\n",
       "    </tr>\n",
       "    <tr>\n",
       "      <th>50%</th>\n",
       "      <td>315.591581</td>\n",
       "      <td>307.900092</td>\n",
       "      <td>400.906528</td>\n",
       "      <td>400.036402</td>\n",
       "    </tr>\n",
       "    <tr>\n",
       "      <th>75%</th>\n",
       "      <td>1795.713664</td>\n",
       "      <td>1804.814307</td>\n",
       "      <td>1756.997274</td>\n",
       "      <td>1952.588262</td>\n",
       "    </tr>\n",
       "    <tr>\n",
       "      <th>max</th>\n",
       "      <td>7809.398124</td>\n",
       "      <td>7818.104716</td>\n",
       "      <td>7778.663825</td>\n",
       "      <td>7943.748647</td>\n",
       "    </tr>\n",
       "  </tbody>\n",
       "</table>\n",
       "</div>"
      ],
      "text/plain": [
       "           90041_mi      91601_mi      92122_mi      94607_mi\n",
       "count  16757.000000  16757.000000  16757.000000  16757.000000\n",
       "mean     822.588764    826.441366    853.791124    998.731859\n",
       "std      964.225819    966.893129    927.003138    936.039176\n",
       "min        0.000000      0.000000      0.000000      0.000000\n",
       "25%       22.139545     26.101987     99.376021    343.704943\n",
       "50%      315.591581    307.900092    400.906528    400.036402\n",
       "75%     1795.713664   1804.814307   1756.997274   1952.588262\n",
       "max     7809.398124   7818.104716   7778.663825   7943.748647"
      ]
     },
     "execution_count": 519,
     "metadata": {},
     "output_type": "execute_result"
    }
   ],
   "source": [
    "## To fill the 'distance' variables\n",
    "data[['90041_mi','91601_mi','92122_mi','94607_mi']].describe()"
   ]
  },
  {
   "cell_type": "code",
   "execution_count": 520,
   "metadata": {
    "collapsed": true
   },
   "outputs": [],
   "source": [
    "## If a student is not a US Citizen or PR, then will give it 7800 miles as distance\n",
    "## If a student is a US Citizen or PR, then input the mean of the field\n",
    "for i in data.index:\n",
    "    if (data.loc[i,'residency_Permanent US Resident']==1 or data.loc[i,'residency_US Citizen']==1) and pd.isna(data.loc[i,'90041_mi'])==True:\n",
    "        data.loc[i,'90041_mi']=822.588764\n",
    "        data.loc[i,'91601_mi']=826.441366\n",
    "        data.loc[i,'92122_mi']=927.003138\n",
    "        data.loc[i,'94607_mi']=998.731859\n",
    "        \n",
    "    elif data.loc[i,'residency_Permanent US Resident']!=1 and data.loc[i,'residency_US Citizen']!=1 and pd.isna(data.loc[i,'90041_mi'])==True:\n",
    "        data.loc[i,'90041_mi']=7800\n",
    "        data.loc[i,'91601_mi']=7800\n",
    "        data.loc[i,'92122_mi']=7800\n",
    "        data.loc[i,'94607_mi']=7800   "
   ]
  },
  {
   "cell_type": "code",
   "execution_count": 521,
   "metadata": {
    "collapsed": true
   },
   "outputs": [],
   "source": [
    "# Create a new variable indicating whether the student is for MSW program\n",
    "# from code book: Post code of student -meaning program of study - \n",
    "# 1411 is virtual MSW, 272 is PhD, 1632 is Nursing, 1645 is DSW, \n",
    "# the rest are campus MSW with the majority being 264.\n",
    "msw_dict={\n",
    "    '1411':'MSW',\n",
    "    '264':'MSW',\n",
    "    '1632':'Nursing',\n",
    "    '1645':'DSW',\n",
    "    'blank':'blank',\n",
    "    '1447':'MSW',\n",
    "    '272':'PhD',\n",
    "    '797':'MSW',\n",
    "    '1130':'MSW',\n",
    "    '1435':'MSW',\n",
    "    '1397':'MSW',\n",
    "    '1222':'MSW',\n",
    "    '1138':'MSW'}\n",
    "data['program_name']=data.post_code.map(msw_dict)"
   ]
  },
  {
   "cell_type": "markdown",
   "metadata": {},
   "source": [
    "### The dataset is all set and will output the big dataset and a dataset only with target students and all numerical variables"
   ]
  },
  {
   "cell_type": "code",
   "execution_count": 522,
   "metadata": {
    "collapsed": true
   },
   "outputs": [],
   "source": [
    "# Output the complete dataset for future reference\n",
    "data.to_csv('data_all.csv',index=False)"
   ]
  },
  {
   "cell_type": "code",
   "execution_count": 523,
   "metadata": {
    "collapsed": true
   },
   "outputs": [],
   "source": [
    "# Prepare a dataset that is ready for modeling\n",
    "df=data[(data.decision=='1st Tier Admit') & (data.program_name=='MSW')]"
   ]
  },
  {
   "cell_type": "code",
   "execution_count": 524,
   "metadata": {
    "collapsed": true
   },
   "outputs": [],
   "source": [
    "columns=['undergraduate_gpa', 'self_reported_gpa', 'first_review_exp',\n",
    "       'first_review_sop', 'first_review_gpa', 'first_review_lor',\n",
    "       'second_review_exp', 'second_review_sop', 'second_review_gpa',\n",
    "        'distance_to_campus',\n",
    "       'program_length', 'response',\n",
    "       'academic_condition', 'age', '90041_mi', '91601_mi', '92122_mi', '94607_mi',\n",
    "       'last_60_90_gpa', 'graduate_gpa', 'second_review_lor', 'sip_score',\n",
    "       'time_to_finish_application', 'decision_wait_time', 'response_time',\n",
    "       'billing_country_United States', 'billing_country_blank',\n",
    "       'ethnicity_Arab/Middle Eastern', 'ethnicity_Asian/Pacific Islander',\n",
    "       'ethnicity_Caucasian', 'ethnicity_Latino/a', 'ethnicity_Multi-Ethnic',\n",
    "       'ethnicity_Native American', 'ethnicity_Unknown', 'ethnicity_blank',\n",
    "       'gender_Female', 'gender_Other', 'gender_blank', 'first_generation_Yes',\n",
    "       'first_generation_blank',\n",
    "       'campus___cleaned_Orange County Academic Center',\n",
    "       'campus___cleaned_San Diego Academic Center',\n",
    "       'campus___cleaned_University Park Campus',\n",
    "       'campus___cleaned_Virtual Academic Center', 'campus___cleaned_blank',\n",
    "       'residency_International', 'residency_Non Resident', 'residency_Other',\n",
    "       'residency_Permanent US Resident', 'residency_Temporary US Resident',\n",
    "       'residency_US Citizen', 'residency_blank', 'deposit_received_True',\n",
    "       'temperature_Cold', 'temperature_Hot', 'temperature_No Contact',\n",
    "       'temperature_Warm']"
   ]
  },
  {
   "cell_type": "code",
   "execution_count": 525,
   "metadata": {
    "collapsed": true
   },
   "outputs": [],
   "source": [
    "df=df[columns]"
   ]
  },
  {
   "cell_type": "code",
   "execution_count": 526,
   "metadata": {
    "collapsed": true
   },
   "outputs": [],
   "source": [
    "df['academic_condition']=df.academic_condition.apply(lambda x: 1 if x==True else 0)"
   ]
  },
  {
   "cell_type": "code",
   "execution_count": 527,
   "metadata": {
    "collapsed": true
   },
   "outputs": [],
   "source": [
    "df.to_csv('data_for_modeling.csv',index=False)"
   ]
  }
 ],
 "metadata": {
  "kernelspec": {
   "display_name": "Python 3",
   "language": "python",
   "name": "python3"
  },
  "language_info": {
   "codemirror_mode": {
    "name": "ipython",
    "version": 3
   },
   "file_extension": ".py",
   "mimetype": "text/x-python",
   "name": "python",
   "nbconvert_exporter": "python",
   "pygments_lexer": "ipython3",
   "version": "3.6.3"
  },
  "varInspector": {
   "cols": {
    "lenName": 16,
    "lenType": 16,
    "lenVar": 40
   },
   "kernels_config": {
    "python": {
     "delete_cmd_postfix": "",
     "delete_cmd_prefix": "del ",
     "library": "var_list.py",
     "varRefreshCmd": "print(var_dic_list())"
    },
    "r": {
     "delete_cmd_postfix": ") ",
     "delete_cmd_prefix": "rm(",
     "library": "var_list.r",
     "varRefreshCmd": "cat(var_dic_list()) "
    }
   },
   "position": {
    "height": "406px",
    "left": "1310px",
    "right": "20px",
    "top": "120px",
    "width": "350px"
   },
   "types_to_exclude": [
    "module",
    "function",
    "builtin_function_or_method",
    "instance",
    "_Feature"
   ],
   "window_display": false
  }
 },
 "nbformat": 4,
 "nbformat_minor": 2
}
